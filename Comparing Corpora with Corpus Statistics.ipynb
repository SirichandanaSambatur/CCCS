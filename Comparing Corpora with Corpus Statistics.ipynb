{
 "cells": [
  {
   "cell_type": "code",
   "execution_count": 40,
   "metadata": {
    "collapsed": true
   },
   "outputs": [],
   "source": [
    "import nltk\n",
    "from nltk import FreqDist\n",
    "from urllib import request\n",
    "import re\n",
    "import matplotlib.pyplot as plt\n",
    "import numpy as np\n",
    "from nltk.collocations import *\n",
    "from nltk.util import ngrams\n",
    "from collections import Counter"
   ]
  },
  {
   "cell_type": "code",
   "execution_count": 41,
   "metadata": {},
   "outputs": [
    {
     "name": "stdout",
     "output_type": "stream",
     "text": [
      "60324\n"
     ]
    }
   ],
   "source": [
    "#importing the first text file- 'DREAM PSYCHOLOGY: PSYCHOANALYSIS FOR BEGINNERS BY PROF. DR. SIGMUND FREUD'\n",
    "# obtained from gutenberg- http://www.gutenberg.org/ebooks/15489\n",
    "\n",
    "firstBook = open('DreamPsychology/Dream Psychology.txt')\n",
    "firstrawtext = firstBook.read()\n",
    "#firstrawtext[:200]\n",
    "\n",
    "# tokenizing the words in the file\n",
    "DPtokens=nltk.word_tokenize(firstrawtext)\n",
    "print(len(DPtokens))\n",
    "#DPtokens[:200]"
   ]
  },
  {
   "cell_type": "code",
   "execution_count": 42,
   "metadata": {},
   "outputs": [
    {
     "name": "stdout",
     "output_type": "stream",
     "text": [
      "180688\n"
     ]
    }
   ],
   "source": [
    "#importing the first text file- \n",
    "#'Ten Thousand Dreams Interpreted, OR, WHAT'S IN A DREAM. A SCIENTIFIC AND PRACTICAL EXPOSITION BY GUSTAVUS HINDMAN MILLER'\n",
    "# obtained from gutenberg- http://www.gutenberg.org/ebooks/926\n",
    "\n",
    "secondBook = open('TenThousanDreamsInterpreted/Ten thousand Dreams interpreted.txt')\n",
    "secondrawtext = secondBook.read()\n",
    "#secondrawtext[:200]\n",
    "\n",
    "# tokenizing the words in the file\n",
    "TTDtokens=nltk.word_tokenize(secondrawtext)\n",
    "print(len(TTDtokens))\n",
    "#TTDtokens[:200]"
   ]
  },
  {
   "cell_type": "code",
   "execution_count": 43,
   "metadata": {},
   "outputs": [
    {
     "name": "stdout",
     "output_type": "stream",
     "text": [
      "number stopwords: 153\n",
      "['i', 'me', 'my', 'myself', 'we', 'our', 'ours', 'ourselves', 'you', 'your', 'yours', 'yourself', 'yourselves', 'he', 'him', 'his', 'himself', 'she', 'her', 'hers', 'herself', 'it', 'its', 'itself', 'they', 'them', 'their', 'theirs', 'themselves', 'what', 'which', 'who', 'whom', 'this', 'that', 'these', 'those', 'am', 'is', 'are', 'was', 'were', 'be', 'been', 'being', 'have', 'has', 'had', 'having', 'do', 'does', 'did', 'doing', 'a', 'an', 'the', 'and', 'but', 'if', 'or', 'because', 'as', 'until', 'while', 'of', 'at', 'by', 'for', 'with', 'about', 'against', 'between', 'into', 'through', 'during', 'before', 'after', 'above', 'below', 'to', 'from', 'up', 'down', 'in', 'out', 'on', 'off', 'over', 'under', 'again', 'further', 'then', 'once', 'here', 'there', 'when', 'where', 'why', 'how', 'all', 'any', 'both', 'each', 'few', 'more', 'most', 'other', 'some', 'such', 'no', 'nor', 'not', 'only', 'own', 'same', 'so', 'than', 'too', 'very', 's', 't', 'can', 'will', 'just', 'don', 'should', 'now', 'd', 'll', 'm', 'o', 're', 've', 'y', 'ain', 'aren', 'couldn', 'didn', 'doesn', 'hadn', 'hasn', 'haven', 'isn', 'ma', 'mightn', 'mustn', 'needn', 'shan', 'shouldn', 'wasn', 'weren', 'won', 'wouldn']\n"
     ]
    }
   ],
   "source": [
    "#importing stopwords from the nltk package\n",
    "stopwords = nltk.corpus.stopwords.words('english')\n",
    "print('number stopwords:', len(stopwords))\n",
    "print(stopwords)"
   ]
  },
  {
   "cell_type": "code",
   "execution_count": 44,
   "metadata": {
    "collapsed": true
   },
   "outputs": [],
   "source": [
    "# converting the tokens to lowercase \n",
    "DPwords2lowercase = [w.lower() for w in DPtokens]\n",
    "TTDwords2lowercase = [w.lower() for w in TTDtokens]"
   ]
  },
  {
   "cell_type": "code",
   "execution_count": 45,
   "metadata": {},
   "outputs": [
    {
     "name": "stdout",
     "output_type": "stream",
     "text": [
      "32076\n",
      "110224\n"
     ]
    }
   ],
   "source": [
    "# removing the stopwords from the tokens\n",
    "DPstoppedwords = [w for w in DPwords2lowercase if not w in stopwords]\n",
    "print(len(DPstoppedwords))\n",
    "#print(DPstoppedwords[:200])\n",
    "TTDstoppedwords = [w for w in TTDwords2lowercase if not w in stopwords]\n",
    "print(len(TTDstoppedwords))\n",
    "#print(TTDstoppedwords[:200])"
   ]
  },
  {
   "cell_type": "code",
   "execution_count": 46,
   "metadata": {
    "collapsed": true
   },
   "outputs": [],
   "source": [
    "#removing non-alphabetical words from the list of stopped words\n",
    "def alpha_filter(w):\n",
    "  # function checks if the word is non-alphabetical word\n",
    "  pattern = re.compile('^[^a-z]+$')\n",
    "  if (pattern.match(w)):\n",
    "    return True\n",
    "  else:\n",
    "    return False"
   ]
  },
  {
   "cell_type": "code",
   "execution_count": 47,
   "metadata": {},
   "outputs": [
    {
     "name": "stdout",
     "output_type": "stream",
     "text": [
      "25617\n",
      "74761\n"
     ]
    }
   ],
   "source": [
    "DPalphawords = [w for w in DPstoppedwords if not alpha_filter(w)]\n",
    "print(len(DPalphawords))\n",
    "#print(DPalphawords[:200])\n",
    "TTDalphawords = [w for w in TTDstoppedwords if not alpha_filter(w)]\n",
    "print(len(TTDalphawords))\n",
    "#print(TTDalphawords[:200])"
   ]
  },
  {
   "cell_type": "code",
   "execution_count": 48,
   "metadata": {
    "collapsed": true
   },
   "outputs": [],
   "source": [
    "# removing additional words by using stopwords.txt\n",
    "moreStopwords=open(\"stopwords.txt\")\n",
    "words=moreStopwords.read()\n",
    "#print(words)"
   ]
  },
  {
   "cell_type": "code",
   "execution_count": 49,
   "metadata": {},
   "outputs": [
    {
     "name": "stdout",
     "output_type": "stream",
     "text": [
      "22982\n",
      "67009\n"
     ]
    }
   ],
   "source": [
    "TTDmorestoppedwords = [w for w in TTDalphawords if not w in words]\n",
    "DPmorestoppedwords = [w for w in DPalphawords if not w in words]\n",
    "print(len(DPmorestoppedwords))\n",
    "print(len(TTDmorestoppedwords))\n"
   ]
  },
  {
   "cell_type": "code",
   "execution_count": 50,
   "metadata": {},
   "outputs": [
    {
     "data": {
      "image/png": "[encoded data removed]",
      "text/plain": [
       "<matplotlib.figure.Figure at 0x11a3c24a8>"
      ]
     },
     "metadata": {},
     "output_type": "display_data"
    }
   ],
   "source": [
    "# calculating frequency distribution\n",
    "DPdist = FreqDist(DPmorestoppedwords)\n",
    "DPitems = DPdist.most_common(50)\n",
    "with open(\"DreamPsychology/DPMostCommonWords.txt\", \"w\") as text_file:\n",
    "    for item in DPitems:\n",
    "        text_file.write(str(item)+\"\\n\")\n",
    "items=[]\n",
    "frequency=[]\n",
    "for i in range(0,25):\n",
    "    items.append(DPitems[i][0])\n",
    "    frequency.append(DPitems[i][1])\n",
    "    \n",
    "#plotting the frequency distribution\n",
    "plt.figure(figsize=(30,5))\n",
    "y_pos = np.arange(len(items))\n",
    "plt.bar(y_pos, frequency, align='center', alpha=0.5)\n",
    "plt.xticks(y_pos, items)\n",
    "plt.ylabel('Frequecy')\n",
    "plt.title('Frequency distribution of the 25 most common words')\n",
    " \n",
    "plt.show()"
   ]
  },
  {
   "cell_type": "code",
   "execution_count": 51,
   "metadata": {},
   "outputs": [
    {
     "data": {
      "image/png": "[encoded data removed]",
      "text/plain": [
       "<matplotlib.figure.Figure at 0x119e6c358>"
      ]
     },
     "metadata": {},
     "output_type": "display_data"
    }
   ],
   "source": [
    "TTDdist = FreqDist(TTDmorestoppedwords)\n",
    "TTDitems = TTDdist.most_common(50)\n",
    "with open(\"TenThousanDreamsInterpreted/TTDMostCommonWords.txt\", \"w\") as text_file:\n",
    "    for item in TTDitems:\n",
    "        text_file.write(str(item)+\"\\n\")\n",
    "items=[]\n",
    "frequency=[]\n",
    "for i in range(0,25):\n",
    "    items.append(TTDitems[i][0])\n",
    "    frequency.append(TTDitems[i][1])\n",
    "    \n",
    "#plotting the frequency distribution\n",
    "plt.figure(figsize=(30,5))\n",
    "y_pos = np.arange(len(items))\n",
    "plt.bar(y_pos, frequency, align='center', alpha=0.5)\n",
    "plt.xticks(y_pos, items)\n",
    "plt.ylabel('Frequecy')\n",
    "plt.title('Frequency distribution of the 25 most common words')\n",
    " \n",
    "plt.show()"
   ]
  },
  {
   "cell_type": "code",
   "execution_count": 54,
   "metadata": {
    "collapsed": true
   },
   "outputs": [],
   "source": [
    "# bigram measures\n",
    "bigram_measures = nltk.collocations.BigramAssocMeasures()"
   ]
  },
  {
   "cell_type": "code",
   "execution_count": 55,
   "metadata": {
    "collapsed": true
   },
   "outputs": [],
   "source": [
    "# finding bigrams of first document\n",
    "DPfinder = BigramCollocationFinder.from_words(DPmorestoppedwords)\n",
    "DPfinder.apply_word_filter(alpha_filter)\n",
    "#DPfinder.apply_word_filter(lambda w: w in stopwords)\n",
    "DPfinder.apply_freq_filter(5)\n",
    "\n",
    "#measuring bigrams using raw frequency\n",
    "DPrawscored = DPfinder.score_ngrams(bigram_measures.raw_freq)\n",
    "\n",
    "#measuring by mutual information\n",
    "DPmutualscored = DPfinder.score_ngrams(bigram_measures.pmi)"
   ]
  },
  {
   "cell_type": "code",
   "execution_count": 58,
   "metadata": {},
   "outputs": [
    {
     "name": "stdout",
     "output_type": "stream",
     "text": [
      "(('psychic', 'apparatus'), 0.0010007832216517275)\n",
      "(('psychic', 'life'), 0.0009572709076668697)\n",
      "(('unconscious', 'wish'), 0.0009572709076668697)\n",
      "(('second', 'system'), 0.0007397093377425812)\n",
      "(('sleeping', 'state'), 0.0006526847097728658)\n",
      "(('waking', 'state'), 0.0006526847097728658)\n",
      "(('principle', 'pain'), 0.0005656600818031502)\n",
      "(('little', 'one'), 0.00047863545383343485)\n",
      "(('outer', 'world'), 0.00047863545383343485)\n",
      "(('psychic', 'processes'), 0.00047863545383343485)\n",
      "(('two', 'systems'), 0.00043512313984857715)\n",
      "(('manifest', 'content'), 0.00039161082586371945)\n",
      "(('psychic', 'process'), 0.00039161082586371945)\n",
      "(('stream', 'thought'), 0.00039161082586371945)\n",
      "(('day', 'remnants'), 0.0003480985118788617)\n",
      "(('fulfillment', 'wish'), 0.0003480985118788617)\n",
      "(('hysterical', 'symptoms'), 0.0003480985118788617)\n",
      "(('latent', 'content'), 0.0003480985118788617)\n",
      "(('mental', 'processes'), 0.0003480985118788617)\n",
      "(('motive', 'power'), 0.0003480985118788617)\n",
      "(('point', 'view'), 0.0003480985118788617)\n",
      "(('sensory', 'organ'), 0.0003480985118788617)\n",
      "(('train', 'thought'), 0.0003480985118788617)\n",
      "(('unconscious', 'wishes'), 0.0003480985118788617)\n",
      "(('pleasure', 'pain'), 0.000304586197894004)\n",
      "(('sexual', 'intercourse'), 0.000304586197894004)\n",
      "(('unconscious', 'psychic'), 0.000304586197894004)\n",
      "(('unfulfilled', 'wish'), 0.000304586197894004)\n",
      "(('condensation', 'displacement'), 0.0002610738839091463)\n",
      "(('female', 'patient'), 0.0002610738839091463)\n",
      "(('infantile', 'type'), 0.0002610738839091463)\n",
      "(('male', 'genital'), 0.0002610738839091463)\n",
      "(('one', 'hand'), 0.0002610738839091463)\n",
      "(('psychic', 'activity'), 0.0002610738839091463)\n",
      "(('psychic', 'forces'), 0.0002610738839091463)\n",
      "(('waking', 'life'), 0.0002610738839091463)\n",
      "(('analysis', 'shows'), 0.00021756156992428858)\n",
      "(('become', 'conscious'), 0.00021756156992428858)\n",
      "(('content', 'thoughts'), 0.00021756156992428858)\n",
      "(('daily', 'life'), 0.00021756156992428858)\n",
      "(('emotional', 'discharge'), 0.00021756156992428858)\n",
      "(('even', 'normal'), 0.00021756156992428858)\n",
      "(('every', 'one'), 0.00021756156992428858)\n",
      "(('foreconscious', 'occupation'), 0.00021756156992428858)\n",
      "(('infantile', 'life'), 0.00021756156992428858)\n",
      "(('long', 'time'), 0.00021756156992428858)\n",
      "(('mrs.', 'e.l.'), 0.00021756156992428858)\n",
      "(('normal', 'psychic'), 0.00021756156992428858)\n",
      "(('one', 'day'), 0.00021756156992428858)\n",
      "(('part', 'played'), 0.00021756156992428858)\n",
      "Mean value of the bigrams raw frequency score is 0.0003409653456518364\n"
     ]
    }
   ],
   "source": [
    "# displaying the bigrams of first document measured by raw frequency\n",
    "for bscore in DPrawscored[:50]:\n",
    "    print (bscore)\n",
    "\n",
    "#finding the mean value of the scores in \n",
    "sum=0\n",
    "for bscore in DPrawscored:\n",
    "    sum=sum+bscore[1]\n",
    "\n",
    "print(\"Mean value of the bigrams raw frequency score is \"+str(sum/len(DPrawscored))  ) \n",
    "\n",
    "#storing the bigrams in a file\n",
    "with open(\"DreamPsychology/DPBigramsRawFrequency.txt\", \"w\") as text_file:\n",
    "    for score in DPrawscored[:50]:\n",
    "        text_file.write(str(score)+\"\\n\")\n",
    "        "
   ]
  },
  {
   "cell_type": "code",
   "execution_count": 59,
   "metadata": {},
   "outputs": [
    {
     "name": "stdout",
     "output_type": "stream",
     "text": [
      "(('mrs.', 'e.l.'), 11.903254232274815)\n",
      "(('outer', 'world'), 10.400753891745628)\n",
      "(('sensory', 'organ'), 9.379692276217801)\n",
      "(('sensory', 'organs'), 9.286582871826322)\n",
      "(('infantile', 'type'), 9.166288638108608)\n",
      "(('male', 'genital'), 9.090185659022817)\n",
      "(('motive', 'power'), 8.636467691579911)\n",
      "(('principle', 'pain'), 8.618800842806115)\n",
      "(('emotional', 'discharge'), 8.610472483046971)\n",
      "(('hysterical', 'symptoms'), 8.32834539621758)\n",
      "(('psychology', 'neuroses'), 8.25172411461467)\n",
      "(('state', 'affairs'), 8.225182327162178)\n",
      "(('sexual', 'intercourse'), 8.066752964557693)\n",
      "(('train', 'thought'), 8.051505190858755)\n",
      "(('point', 'view'), 7.986379548093673)\n",
      "(('pleasure', 'pain'), 7.973643560166213)\n",
      "(('stream', 'thought'), 7.931923575106081)\n",
      "(('sleeping', 'state'), 7.871545372547477)\n",
      "(('realization', 'desire'), 7.733329230832503)\n",
      "(('female', 'patient'), 7.706857019471311)\n",
      "(('young', 'girl'), 7.6502734911049455)\n",
      "(('part', 'played'), 7.595825707082568)\n",
      "(('daily', 'life'), 7.494995265627034)\n",
      "(('condensation', 'displacement'), 7.465848919967517)\n",
      "(('two', 'systems'), 7.228002846224557)\n",
      "(('waking', 'state'), 7.147179815160902)\n",
      "(('second', 'system'), 6.936338865594079)\n",
      "(('day', 'remnants'), 6.894825610204233)\n",
      "(('unfulfilled', 'wish'), 6.6882413413039625)\n",
      "(('latent', 'content'), 6.536932018028997)\n",
      "(('manifest', 'content'), 6.484464598134862)\n",
      "(('even', 'normal'), 6.4438226136375185)\n",
      "(('foreconscious', 'occupation'), 6.42860187669875)\n",
      "(('theory', 'wish-fulfillment'), 6.400753891745634)\n",
      "(('repressed', 'ideas'), 6.364095421166784)\n",
      "(('long', 'time'), 6.294444989599292)\n",
      "(('mental', 'processes'), 6.272683733250313)\n",
      "(('unc', 'system'), 6.251724114614669)\n",
      "(('become', 'conscious'), 6.240289219552386)\n",
      "(('fulfillment', 'wish'), 6.2028145141337205)\n",
      "(('psychic', 'apparatus'), 5.9984560156275375)\n",
      "(('analysis', 'shows'), 5.7016203711051645)\n",
      "(('psychical', 'matter'), 5.6629399029411065)\n",
      "(('infantile', 'life'), 5.395459592076119)\n",
      "(('psychic', 'forces'), 5.328345396217582)\n",
      "(('waking', 'life'), 5.3174570800748455)\n",
      "(('psychic', 'life'), 5.154451492572322)\n",
      "(('unconscious', 'wishes'), 4.944943194546164)\n",
      "(('normal', 'psychic'), 4.939780108299928)\n",
      "(('psychic', 'processes'), 4.804265137643444)\n",
      "Mean value of the bigrams mutual information score is 6.600911892143144\n"
     ]
    }
   ],
   "source": [
    "# displaying the bigrams of first document measured by mutual information\n",
    "\n",
    "for bscore in DPmutualscored[:50]:\n",
    "    print (bscore)\n",
    "    \n",
    "#finding the mean value of the scores in \n",
    "sum=0\n",
    "for bscore in DPmutualscored:\n",
    "    sum=sum+bscore[1]\n",
    "\n",
    "print(\"Mean value of the bigrams mutual information score is \"+str(sum/len(DPmutualscored)))  \n",
    "\n",
    "#storing the bigrams in a file\n",
    "with open(\"DreamPsychology/DPBigramsMutualInformation.txt\", \"w\") as text_file:\n",
    "    for score in DPmutualscored[:50]:\n",
    "        text_file.write(str(score)+\"\\n\")\n",
    "        "
   ]
  },
  {
   "cell_type": "code",
   "execution_count": 60,
   "metadata": {
    "collapsed": true
   },
   "outputs": [],
   "source": [
    "#finding bigrams in the second document\n",
    "TTDfinder = BigramCollocationFinder.from_words(TTDmorestoppedwords)\n",
    "TTDfinder.apply_word_filter(alpha_filter)\n",
    "#TTDfinder.apply_word_filter(lambda w: w in stopwords)\n",
    "TTDfinder.apply_freq_filter(5)\n",
    "\n",
    "#measuring bigrams using raw frequency\n",
    "TTDrawscored = TTDfinder.score_ngrams(bigram_measures.raw_freq)\n",
    "\n",
    "#measuring by mutual information\n",
    "TTDmutualscored = TTDfinder.score_ngrams(bigram_measures.pmi)"
   ]
  },
  {
   "cell_type": "code",
   "execution_count": 61,
   "metadata": {},
   "outputs": [
    {
     "name": "stdout",
     "output_type": "stream",
     "text": [
      "(('young', 'woman'), 0.006984136459281589)\n",
      "(('one', 'denotes'), 0.0007312450566341835)\n",
      "(('ill', 'health'), 0.0005521646346013222)\n",
      "(('denotes', 'pleasant'), 0.0004924711605903684)\n",
      "(('ill', 'luck'), 0.0004924711605903684)\n",
      "(('one', 'foretells'), 0.0004924711605903684)\n",
      "(('business', 'love'), 0.00047754779208763)\n",
      "(('denotes', 'soon'), 0.0004327776865794147)\n",
      "(('good', 'fortune'), 0.0004327776865794147)\n",
      "(('denotes', 'enemies'), 0.0003880075810711994)\n",
      "(('good', 'health'), 0.00037308421256846097)\n",
      "(('clear', 'water'), 0.00035816084406572253)\n",
      "(('denotes', 'great'), 0.00035816084406572253)\n",
      "(('denotes', 'sickness'), 0.00035816084406572253)\n",
      "(('woman', 'lover'), 0.0003283141070602456)\n",
      "(('denotes', 'trouble'), 0.0003133907385575072)\n",
      "(('false', 'friends'), 0.0003133907385575072)\n",
      "(('business', 'affairs'), 0.00029846737005476874)\n",
      "(('denotes', 'engage'), 0.00029846737005476874)\n",
      "(('denotes', 'enjoy'), 0.00029846737005476874)\n",
      "(('news', 'absent'), 0.00029846737005476874)\n",
      "(('one', 'signifies'), 0.00029846737005476874)\n",
      "(('woman', 'denotes'), 0.00029846737005476874)\n",
      "(('among', 'friends'), 0.0002835440015520303)\n",
      "(('love', 'affairs'), 0.0002686206330492919)\n",
      "(('love', 'business'), 0.0002686206330492919)\n",
      "(('foretells', 'pleasant'), 0.00025369726454655344)\n",
      "(('immediate', 'future'), 0.000238773896043815)\n",
      "(('waking', 'mind'), 0.000238773896043815)\n",
      "(('denotes', 'prosperity'), 0.00022385052754107657)\n",
      "(('near', 'future'), 0.00022385052754107657)\n",
      "(('woman', 'sees'), 0.00022385052754107657)\n",
      "(('business', 'young'), 0.00020892715903833814)\n",
      "(('denotes', 'success'), 0.00020892715903833814)\n",
      "(('denotes', 'sudden'), 0.00020892715903833814)\n",
      "(('denotes', 'suffer'), 0.00020892715903833814)\n",
      "(('friends', 'young'), 0.00020892715903833814)\n",
      "(('person', 'denotes'), 0.00020892715903833814)\n",
      "(('denotes', 'failure'), 0.0001940037905355997)\n",
      "(('denotes', 'small'), 0.0001940037905355997)\n",
      "(('denotes', 'unexpected'), 0.0001940037905355997)\n",
      "(('denotes', 'unfortunate'), 0.0001940037905355997)\n",
      "(('denotes', 'unpleasant'), 0.0001940037905355997)\n",
      "(('kill', 'one'), 0.0001940037905355997)\n",
      "(('threatened', 'loss'), 0.0001940037905355997)\n",
      "(('water', 'denotes'), 0.0001940037905355997)\n",
      "(('woman', 'foretells'), 0.0001940037905355997)\n",
      "(('woman', 'think'), 0.0001940037905355997)\n",
      "(('absent', 'friends'), 0.00017908042203286127)\n",
      "(('business', 'social'), 0.00017908042203286127)\n",
      "Mean value of the bigrams raw frequency score is 0.00013500212830954098\n"
     ]
    }
   ],
   "source": [
    "# displaying the bigrams of second document by raw frequency\n",
    "for bscore in TTDrawscored[:50]:\n",
    "    print (bscore)\n",
    "    \n",
    "#finding the mean value of the scores in \n",
    "sum=0\n",
    "for bscore in TTDrawscored:\n",
    "    sum=sum+bscore[1]\n",
    "\n",
    "print(\"Mean value of the bigrams raw frequency score is \"+str(sum/len(TTDrawscored))  )\n",
    "\n",
    "#storing the bigrams in a file\n",
    "with open(\"TenThousanDreamsInterpreted/TTDBigramsRawFrequency.txt\", \"w\") as text_file:\n",
    "    for score in TTDrawscored[:50]:\n",
    "        text_file.write(str(score)+\"\\n\")\n",
    "        "
   ]
  },
  {
   "cell_type": "code",
   "execution_count": 62,
   "metadata": {},
   "outputs": [
    {
     "name": "stdout",
     "output_type": "stream",
     "text": [
      "(('disastrous', 'consequences'), 12.032067256961192)\n",
      "(('opposite', 'sex'), 11.554019960156548)\n",
      "(('kindred', 'words'), 11.376715428348636)\n",
      "(('short', 'duration'), 11.277179754797725)\n",
      "(('law', 'suits'), 11.054787333461274)\n",
      "(('incur', 'displeasure'), 10.495126271102981)\n",
      "(('sun', 'shining'), 10.288675393635554)\n",
      "(('narrowly', 'escape'), 10.054787333461274)\n",
      "(('gloomy', 'forebodings'), 9.99644334723047)\n",
      "(('strenuous', 'efforts'), 9.973173567907624)\n",
      "(('loved', 'ones'), 9.80324856646531)\n",
      "(('throw', 'aside'), 9.229874040019366)\n",
      "(('deep', 'sleep'), 9.061673719046514)\n",
      "(('domestic', 'bliss'), 9.054787333461274)\n",
      "(('crops', 'farmer'), 9.014145348963929)\n",
      "(('news', 'absent'), 8.994794866714921)\n",
      "(('bad', 'management'), 8.977990584205399)\n",
      "(('higher', 'self'), 8.954064744959917)\n",
      "(('heed', 'warning'), 8.786039276433087)\n",
      "(('hasty', 'action'), 8.741126854557512)\n",
      "(('soiled', 'torn'), 8.676275710207543)\n",
      "(('friendly', 'relations'), 8.665745042715375)\n",
      "(('social', 'circles'), 8.589123761112463)\n",
      "(('best', 'efforts'), 8.513741949270328)\n",
      "(('danger', 'losing'), 8.400283899487043)\n",
      "(('ill', 'luck'), 8.357714466418583)\n",
      "(('amass', 'wealth'), 8.338580299461867)\n",
      "(('universal', 'mind'), 8.298712916347363)\n",
      "(('marry', 'wealthy'), 8.277179754797722)\n",
      "(('keen', 'disappointment'), 8.253333012843354)\n",
      "(('immediate', 'future'), 8.23602764813142)\n",
      "(('rapid', 'rise'), 8.210612137858732)\n",
      "(('well', 'formed'), 8.145760993508764)\n",
      "(('tidings', 'absent'), 8.144541986219604)\n",
      "(('accumulation', 'wealth'), 8.075545893628071)\n",
      "(('overcome', 'opposition'), 8.069584335389356)\n",
      "(('change', 'abode'), 8.054787333461274)\n",
      "(('offer', 'marriage'), 8.028315122100086)\n",
      "(('obtain', 'wishes'), 7.859139767357355)\n",
      "(('desperate', 'illness'), 7.8500276791740635)\n",
      "(('overcome', 'obstacles'), 7.8471919140529085)\n",
      "(('clear', 'water'), 7.84554028818175)\n",
      "(('muddy', 'water'), 7.742970554541202)\n",
      "(('prosperous', 'times'), 7.739745624159154)\n",
      "(('early', 'marriage'), 7.706387027212722)\n",
      "(('high', 'positions'), 7.598829578869124)\n",
      "(('water', 'muddy'), 7.590967461096152)\n",
      "(('successful', 'undertakings'), 7.473646543692526)\n",
      "(('work', 'harm'), 7.453222865402989)\n",
      "(('pleasant', 'surprises'), 7.404330732549743)\n",
      "Mean value of the bigrams mutual information score is 4.106574479441681\n"
     ]
    }
   ],
   "source": [
    "# displaying the bigrams of second document\n",
    "for bscore in TTDmutualscored[:50]:\n",
    "    print (bscore)\n",
    "    \n",
    "#finding the mean value of the scores in \n",
    "sum=0\n",
    "for bscore in TTDmutualscored:\n",
    "    sum=sum+bscore[1]\n",
    "\n",
    "print(\"Mean value of the bigrams mutual information score is \"+str(sum/len(TTDmutualscored))  )\n",
    "\n",
    "#storing the bigrams in a file\n",
    "with open(\"TenThousanDreamsInterpreted/TTDBigramsMutualInformation.txt\", \"w\") as text_file:\n",
    "    for score in TTDmutualscored[:50]:\n",
    "        text_file.write(str(score)+\"\\n\")"
   ]
  },
  {
   "cell_type": "code",
   "execution_count": 74,
   "metadata": {},
   "outputs": [],
   "source": [
    "# trigrams in the first document\n",
    "trigram_measures = nltk.collocations.TrigramAssocMeasures()\n",
    "DPfinderTri=TrigramCollocationFinder.from_words(DPmorestoppedwords)\n",
    "DPfinderTri.apply_word_filter(alpha_filter)\n",
    "\n",
    "#measuring by raw frequency of trigrams\n",
    "DPtrirawscored = DPfinderTri.score_ngrams(trigram_measures.raw_freq)\n",
    "\n",
    "#measuring by mutual information of trigrams\n",
    "DPtrimutualscored = DPfinderTri.score_ngrams(trigram_measures.pmi)"
   ]
  },
  {
   "cell_type": "code",
   "execution_count": 75,
   "metadata": {},
   "outputs": [
    {
     "name": "stdout",
     "output_type": "stream",
     "text": [
      "(('florin', 'fifty', 'kreuzers'), 0.00017404925593943085)\n",
      "(('normal', 'psychic', 'life'), 0.00017404925593943085)\n",
      "(('one', 'florin', 'fifty'), 0.00017404925593943085)\n",
      "(('abandoned', 'foreconscious', 'occupation'), 0.00013053694195457315)\n",
      "(('activity', 'second', 'system'), 0.00013053694195457315)\n",
      "(('even', 'normal', 'psychic'), 0.00013053694195457315)\n",
      "(('forces', 'psychic', 'life'), 0.00013053694195457315)\n",
      "(('formation', 'hysterical', 'symptoms'), 0.00013053694195457315)\n",
      "(('little', 'one', 'genital'), 0.00013053694195457315)\n",
      "(('state', 'psychic', 'life'), 0.00013053694195457315)\n",
      "(('unconscious', 'wishes', 'always'), 0.00013053694195457315)\n",
      "(('_journal', 'nervous', 'mental'), 8.702462796971542e-05)\n",
      "(('_zentralblatt', 'für', 'psychoanalyse_'), 8.702462796971542e-05)\n",
      "(('a.', 'mccann', 'company'), 8.702462796971542e-05)\n",
      "(('a.a.', 'brill', '_journal'), 8.702462796971542e-05)\n",
      "(('action', 'behaves', 'towards'), 8.702462796971542e-05)\n",
      "(('always', 'beautiful', 'eyes'), 8.702462796971542e-05)\n",
      "(('apparatus', 'two', 'systems'), 8.702462796971542e-05)\n",
      "(('assumption', 'concerning', 'nature'), 8.702462796971542e-05)\n",
      "(('away', 'little', 'one'), 8.702462796971542e-05)\n",
      "(('behavior', 'wife', 'table'), 8.702462796971542e-05)\n",
      "(('boy', 'delicate', 'health'), 8.702462796971542e-05)\n",
      "(('brill', '_journal', 'nervous'), 8.702462796971542e-05)\n",
      "(('bring', 'guilt', 'ye'), 8.702462796971542e-05)\n",
      "(('certain', 'year', 'actually'), 8.702462796971542e-05)\n",
      "(('change', 'outer', 'world'), 8.702462796971542e-05)\n",
      "(('conception', '_dream', 'distortion_'), 8.702462796971542e-05)\n",
      "(('condensation', 'compromise', 'formation'), 8.702462796971542e-05)\n",
      "(('cons', 'sensory', 'organ'), 8.702462796971542e-05)\n",
      "(('conscious', 'unconscious', 'psychic'), 8.702462796971542e-05)\n",
      "(('correct', 'thoughts', 'equivalent'), 8.702462796971542e-05)\n",
      "(('day', 'remnants', 'doubt'), 8.702462796971542e-05)\n",
      "(('den', 'gegensinn', 'der'), 8.702462796971542e-05)\n",
      "(('discharge', 'second', 'system'), 8.702462796971542e-05)\n",
      "(('divided', 'three', 'classes'), 8.702462796971542e-05)\n",
      "(('draw', 'attention', 'consciousness'), 8.702462796971542e-05)\n",
      "(('dream-wish', 'invariably', 'originates'), 8.702462796971542e-05)\n",
      "(('earth', 'weary', 'earth'), 8.702462796971542e-05)\n",
      "(('earth', 'ye', 'bring'), 8.702462796971542e-05)\n",
      "(('emperor', 'empress', 'king'), 8.702462796971542e-05)\n",
      "(('empress', 'king', 'queen'), 8.702462796971542e-05)\n",
      "(('english', 'word', 'box'), 8.702462796971542e-05)\n",
      "(('every', 'one', 'knows'), 8.702462796971542e-05)\n",
      "(('florins', 'sixty-five', 'kreuzers'), 8.702462796971542e-05)\n",
      "(('foreconscious', 'mental', 'processes'), 8.702462796971542e-05)\n",
      "(('foreconscious', 'train', 'thought'), 8.702462796971542e-05)\n",
      "(('front', 'house', 'lady'), 8.702462796971542e-05)\n",
      "(('genital', 'little', 'one'), 8.702462796971542e-05)\n",
      "(('gives', 'undivided', 'attention'), 8.702462796971542e-05)\n",
      "(('guilt', 'ye', 'let'), 8.702462796971542e-05)\n",
      "Mean value of the trigrams raw frequency score is 4.3754123107315034e-05\n"
     ]
    }
   ],
   "source": [
    "# displaying the trigrams of first document by raw frequency\n",
    "for bscore in DPtrirawscored[:50]:\n",
    "    print (bscore)\n",
    "    \n",
    "#finding the mean value of the scores in \n",
    "sum=0\n",
    "for bscore in DPtrirawscored:\n",
    "    sum=sum+bscore[1]\n",
    "\n",
    "print(\"Mean value of the trigrams raw frequency score is \"+str(sum/len(DPtrirawscored)) ) \n",
    "\n",
    "#storing the bigrams in a file\n",
    "with open(\"DreamPsychology/DPTrigramsRawFrequency.txt\", \"w\") as text_file:\n",
    "    for score in DPtrirawscored[:50]:\n",
    "        text_file.write(str(score)+\"\\n\")\n",
    "        "
   ]
  },
  {
   "cell_type": "code",
   "execution_count": 85,
   "metadata": {},
   "outputs": [
    {
     "name": "stdout",
     "output_type": "stream",
     "text": [
      "((\"'kosten\", 'zu', 'haben'), 28.976433465991946)\n",
      "(('_according', 'rigid', 'key_'), 28.976433465991946)\n",
      "(('_contempt_', '_correlated', 'absurdity_'), 28.976433465991946)\n",
      "(('_disagreement', 'scorn', 'disdain_'), 28.976433465991946)\n",
      "(('_du', 'sommeil', 'provoqué_'), 28.976433465991946)\n",
      "(('_etudes_', 'moscheles', 'clementi'), 28.976433465991946)\n",
      "(('_from_', 'uterine', 'waters'), 28.976433465991946)\n",
      "(('_gradus', 'ad', 'parnassum_'), 28.976433465991946)\n",
      "(('_juvenile_', 'reviewer', 'communicated'), 28.976433465991946)\n",
      "(('_logical', 'connection_', '_approximation'), 28.976433465991946)\n",
      "(('_magnum', 'opus_', 'imposed'), 28.976433465991946)\n",
      "(('_need', 'not_', '_in'), 28.976433465991946)\n",
      "(('_psychoanalysis', 'beginners_', 'prof.'), 28.976433465991946)\n",
      "(('_scorn_', '_contempt_', '_correlated'), 28.976433465991946)\n",
      "(('_studies', 'hysteria_', '2nd'), 28.976433465991946)\n",
      "(('_symbolism', 'dreams_', 'actuated'), 28.976433465991946)\n",
      "(('_tawberry', 'eggs', 'pap_'), 28.976433465991946)\n",
      "(('_uncertainty_', '_either_', '_or_'), 28.976433465991946)\n",
      "(('_woman-pictures_', 'idiomatically', '_women_'), 28.976433465991946)\n",
      "(('accurate', 'unmixed', 'reproductions'), 28.976433465991946)\n",
      "(('achilles', 'war-chariot', 'guided'), 28.976433465991946)\n",
      "(('adding', '_tawberry', 'eggs'), 28.976433465991946)\n",
      "(('adonis', 'osiris', 'moses'), 28.976433465991946)\n",
      "(('advised', 'accepting', 'suitor'), 28.976433465991946)\n",
      "(('agreement', '_fresh', 'unity_'), 28.976433465991946)\n",
      "(('allegories', 'metaphors', 'figurative'), 28.976433465991946)\n",
      "(('alliances', 'dental', 'practitioners'), 28.976433465991946)\n",
      "(('amniotic', 'liquor', 'lifts'), 28.976433465991946)\n",
      "(('armed', 'stretch', 'unyielding'), 28.976433465991946)\n",
      "(('attainment', 'end-identity', 'substituting'), 28.976433465991946)\n",
      "(('austria', 'american', 'dentist'), 28.976433465991946)\n",
      "(('authority', 'agent', 'police'), 28.976433465991946)\n",
      "(('backgrounds', 'foregrounds', 'stipulations'), 28.976433465991946)\n",
      "(('barriers', 'cry', 'halt'), 28.976433465991946)\n",
      "(('berlin', 'pen', '_juvenile_'), 28.976433465991946)\n",
      "(('bigoted', 'camp', 'followers'), 28.976433465991946)\n",
      "(('births', 'adonis', 'osiris'), 28.976433465991946)\n",
      "(('bleuler', 'calls', 'autistic'), 28.976433465991946)\n",
      "(('boot', 'bled', 'whereupon'), 28.976433465991946)\n",
      "(('bow', 'arrow', 'discarded'), 28.976433465991946)\n",
      "(('boxes', 'caskets', 'closets'), 28.976433465991946)\n",
      "(('brothel', 'harem', 'staircases'), 28.976433465991946)\n",
      "(('bueuer', '_studies', 'hysteria_'), 28.976433465991946)\n",
      "(('bundles', 'black', 'color'), 28.976433465991946)\n",
      "(('caskets', 'closets', 'stoves'), 28.976433465991946)\n",
      "(('cela', \"m'énervait\", 'tant'), 28.976433465991946)\n",
      "(('cet', 'état', 'particulier'), 28.976433465991946)\n",
      "(('clementi', '_gradus', 'ad'), 28.976433465991946)\n",
      "(('contested', 'energetically', 'defended'), 28.976433465991946)\n",
      "(('contour', 'spectacle', 'lens'), 28.976433465991946)\n",
      "Mean value of the trigrams mutual information score is 19.416655132063465\n"
     ]
    }
   ],
   "source": [
    "# displaying the trigrams of first document measured by mutual information\n",
    "\n",
    "for bscore in DPtrimutualscored[:50]:\n",
    "    print (bscore)\n",
    "    \n",
    "#finding the mean value of the scores in \n",
    "sum=0\n",
    "for bscore in DPtrimutualscored:\n",
    "    sum=sum+bscore[1]\n",
    "\n",
    "print(\"Mean value of the trigrams mutual information score is \"+str(sum/len(DPtrimutualscored))  )\n",
    "#storing the bigrams in a file\n",
    "with open(\"DreamPsychology/DPTrigramsMutualInformation.txt\", \"w\") as text_file:\n",
    "    for score in DPtrimutualscored[:50]:\n",
    "        text_file.write(str(score)+\"\\n\")"
   ]
  },
  {
   "cell_type": "code",
   "execution_count": 80,
   "metadata": {},
   "outputs": [],
   "source": [
    "# trigrams in the second document\n",
    "trigram_measures = nltk.collocations.TrigramAssocMeasures()\n",
    "TTDfinderTri=TrigramCollocationFinder.from_words(DPmorestoppedwords)\n",
    "TTDfinderTri.apply_word_filter(alpha_filter)\n",
    "\n",
    "#measuring by raw frequency of trigrams\n",
    "TTDtrirawscored = TTDfinderTri.score_ngrams(trigram_measures.raw_freq)\n",
    "\n",
    "#measuring by mutual information of trigrams\n",
    "TTDtrimutualscored = TTDfinderTri.score_ngrams(trigram_measures.pmi)\n"
   ]
  },
  {
   "cell_type": "code",
   "execution_count": 81,
   "metadata": {},
   "outputs": [
    {
     "name": "stdout",
     "output_type": "stream",
     "text": [
      "(('florin', 'fifty', 'kreuzers'), 0.00017404925593943085)\n",
      "(('normal', 'psychic', 'life'), 0.00017404925593943085)\n",
      "(('one', 'florin', 'fifty'), 0.00017404925593943085)\n",
      "(('abandoned', 'foreconscious', 'occupation'), 0.00013053694195457315)\n",
      "(('activity', 'second', 'system'), 0.00013053694195457315)\n",
      "(('even', 'normal', 'psychic'), 0.00013053694195457315)\n",
      "(('forces', 'psychic', 'life'), 0.00013053694195457315)\n",
      "(('formation', 'hysterical', 'symptoms'), 0.00013053694195457315)\n",
      "(('little', 'one', 'genital'), 0.00013053694195457315)\n",
      "(('state', 'psychic', 'life'), 0.00013053694195457315)\n",
      "(('unconscious', 'wishes', 'always'), 0.00013053694195457315)\n",
      "(('_journal', 'nervous', 'mental'), 8.702462796971542e-05)\n",
      "(('_zentralblatt', 'für', 'psychoanalyse_'), 8.702462796971542e-05)\n",
      "(('a.', 'mccann', 'company'), 8.702462796971542e-05)\n",
      "(('a.a.', 'brill', '_journal'), 8.702462796971542e-05)\n",
      "(('action', 'behaves', 'towards'), 8.702462796971542e-05)\n",
      "(('always', 'beautiful', 'eyes'), 8.702462796971542e-05)\n",
      "(('apparatus', 'two', 'systems'), 8.702462796971542e-05)\n",
      "(('assumption', 'concerning', 'nature'), 8.702462796971542e-05)\n",
      "(('away', 'little', 'one'), 8.702462796971542e-05)\n",
      "(('behavior', 'wife', 'table'), 8.702462796971542e-05)\n",
      "(('boy', 'delicate', 'health'), 8.702462796971542e-05)\n",
      "(('brill', '_journal', 'nervous'), 8.702462796971542e-05)\n",
      "(('bring', 'guilt', 'ye'), 8.702462796971542e-05)\n",
      "(('certain', 'year', 'actually'), 8.702462796971542e-05)\n",
      "(('change', 'outer', 'world'), 8.702462796971542e-05)\n",
      "(('conception', '_dream', 'distortion_'), 8.702462796971542e-05)\n",
      "(('condensation', 'compromise', 'formation'), 8.702462796971542e-05)\n",
      "(('cons', 'sensory', 'organ'), 8.702462796971542e-05)\n",
      "(('conscious', 'unconscious', 'psychic'), 8.702462796971542e-05)\n",
      "(('correct', 'thoughts', 'equivalent'), 8.702462796971542e-05)\n",
      "(('day', 'remnants', 'doubt'), 8.702462796971542e-05)\n",
      "(('den', 'gegensinn', 'der'), 8.702462796971542e-05)\n",
      "(('discharge', 'second', 'system'), 8.702462796971542e-05)\n",
      "(('divided', 'three', 'classes'), 8.702462796971542e-05)\n",
      "(('draw', 'attention', 'consciousness'), 8.702462796971542e-05)\n",
      "(('dream-wish', 'invariably', 'originates'), 8.702462796971542e-05)\n",
      "(('earth', 'weary', 'earth'), 8.702462796971542e-05)\n",
      "(('earth', 'ye', 'bring'), 8.702462796971542e-05)\n",
      "(('emperor', 'empress', 'king'), 8.702462796971542e-05)\n",
      "(('empress', 'king', 'queen'), 8.702462796971542e-05)\n",
      "(('english', 'word', 'box'), 8.702462796971542e-05)\n",
      "(('every', 'one', 'knows'), 8.702462796971542e-05)\n",
      "(('florins', 'sixty-five', 'kreuzers'), 8.702462796971542e-05)\n",
      "(('foreconscious', 'mental', 'processes'), 8.702462796971542e-05)\n",
      "(('foreconscious', 'train', 'thought'), 8.702462796971542e-05)\n",
      "(('front', 'house', 'lady'), 8.702462796971542e-05)\n",
      "(('genital', 'little', 'one'), 8.702462796971542e-05)\n",
      "(('gives', 'undivided', 'attention'), 8.702462796971542e-05)\n",
      "(('guilt', 'ye', 'let'), 8.702462796971542e-05)\n",
      "Mean value of the trigrams raw frequency score is 4.3754123107315034e-05\n"
     ]
    }
   ],
   "source": [
    "# displaying the trigrams of second document by raw frequency\n",
    "for bscore in TTDtrirawscored[:50]:\n",
    "    print (bscore)\n",
    "    \n",
    "#finding the mean value of the scores in \n",
    "sum=0\n",
    "for bscore in TTDtrirawscored:\n",
    "    sum=sum+bscore[1]\n",
    "\n",
    "print(\"Mean value of the trigrams raw frequency score is \"+str(sum/len(TTDtrirawscored)) ) \n",
    "\n",
    "#storing the bigrams in a file\n",
    "with open(\"TenThousanDreamsInterpreted/TTDTrigramsRawFrequency.txt\", \"w\") as text_file:\n",
    "    for score in TTDtrirawscored[:50]:\n",
    "        text_file.write(str(score)+\"\\n\")"
   ]
  },
  {
   "cell_type": "code",
   "execution_count": 82,
   "metadata": {},
   "outputs": [
    {
     "name": "stdout",
     "output_type": "stream",
     "text": [
      "((\"'kosten\", 'zu', 'haben'), 28.976433465991946)\n",
      "(('_according', 'rigid', 'key_'), 28.976433465991946)\n",
      "(('_contempt_', '_correlated', 'absurdity_'), 28.976433465991946)\n",
      "(('_disagreement', 'scorn', 'disdain_'), 28.976433465991946)\n",
      "(('_du', 'sommeil', 'provoqué_'), 28.976433465991946)\n",
      "(('_etudes_', 'moscheles', 'clementi'), 28.976433465991946)\n",
      "(('_from_', 'uterine', 'waters'), 28.976433465991946)\n",
      "(('_gradus', 'ad', 'parnassum_'), 28.976433465991946)\n",
      "(('_juvenile_', 'reviewer', 'communicated'), 28.976433465991946)\n",
      "(('_logical', 'connection_', '_approximation'), 28.976433465991946)\n",
      "(('_magnum', 'opus_', 'imposed'), 28.976433465991946)\n",
      "(('_need', 'not_', '_in'), 28.976433465991946)\n",
      "(('_psychoanalysis', 'beginners_', 'prof.'), 28.976433465991946)\n",
      "(('_scorn_', '_contempt_', '_correlated'), 28.976433465991946)\n",
      "(('_studies', 'hysteria_', '2nd'), 28.976433465991946)\n",
      "(('_symbolism', 'dreams_', 'actuated'), 28.976433465991946)\n",
      "(('_tawberry', 'eggs', 'pap_'), 28.976433465991946)\n",
      "(('_uncertainty_', '_either_', '_or_'), 28.976433465991946)\n",
      "(('_woman-pictures_', 'idiomatically', '_women_'), 28.976433465991946)\n",
      "(('accurate', 'unmixed', 'reproductions'), 28.976433465991946)\n",
      "(('achilles', 'war-chariot', 'guided'), 28.976433465991946)\n",
      "(('adding', '_tawberry', 'eggs'), 28.976433465991946)\n",
      "(('adonis', 'osiris', 'moses'), 28.976433465991946)\n",
      "(('advised', 'accepting', 'suitor'), 28.976433465991946)\n",
      "(('agreement', '_fresh', 'unity_'), 28.976433465991946)\n",
      "(('allegories', 'metaphors', 'figurative'), 28.976433465991946)\n",
      "(('alliances', 'dental', 'practitioners'), 28.976433465991946)\n",
      "(('amniotic', 'liquor', 'lifts'), 28.976433465991946)\n",
      "(('armed', 'stretch', 'unyielding'), 28.976433465991946)\n",
      "(('attainment', 'end-identity', 'substituting'), 28.976433465991946)\n",
      "(('austria', 'american', 'dentist'), 28.976433465991946)\n",
      "(('authority', 'agent', 'police'), 28.976433465991946)\n",
      "(('backgrounds', 'foregrounds', 'stipulations'), 28.976433465991946)\n",
      "(('barriers', 'cry', 'halt'), 28.976433465991946)\n",
      "(('berlin', 'pen', '_juvenile_'), 28.976433465991946)\n",
      "(('bigoted', 'camp', 'followers'), 28.976433465991946)\n",
      "(('births', 'adonis', 'osiris'), 28.976433465991946)\n",
      "(('bleuler', 'calls', 'autistic'), 28.976433465991946)\n",
      "(('boot', 'bled', 'whereupon'), 28.976433465991946)\n",
      "(('bow', 'arrow', 'discarded'), 28.976433465991946)\n",
      "(('boxes', 'caskets', 'closets'), 28.976433465991946)\n",
      "(('brothel', 'harem', 'staircases'), 28.976433465991946)\n",
      "(('bueuer', '_studies', 'hysteria_'), 28.976433465991946)\n",
      "(('bundles', 'black', 'color'), 28.976433465991946)\n",
      "(('caskets', 'closets', 'stoves'), 28.976433465991946)\n",
      "(('cela', \"m'énervait\", 'tant'), 28.976433465991946)\n",
      "(('cet', 'état', 'particulier'), 28.976433465991946)\n",
      "(('clementi', '_gradus', 'ad'), 28.976433465991946)\n",
      "(('contested', 'energetically', 'defended'), 28.976433465991946)\n",
      "(('contour', 'spectacle', 'lens'), 28.976433465991946)\n",
      "Mean value of the trigrams mutual information score is 19.416655132063465\n"
     ]
    }
   ],
   "source": [
    "# displaying the trigrams of second document\n",
    "for bscore in TTDtrimutualscored[:50]:\n",
    "    print (bscore)\n",
    "    \n",
    "#finding the mean value of the scores in \n",
    "sum=0\n",
    "for bscore in TTDtrimutualscored:\n",
    "    sum=sum+bscore[1]\n",
    "\n",
    "print(\"Mean value of the trigrams mutual information score is \"+str(sum/len(TTDtrimutualscored))  )\n",
    "\n",
    "#storing the bigrams in a file\n",
    "with open(\"TenThousanDreamsInterpreted/TTDTrigramsMutualInformation.txt\", \"w\") as text_file:\n",
    "    for score in TTDtrimutualscored[:50]:\n",
    "        text_file.write(str(score)+\"\\n\")"
   ]
  },
  {
   "cell_type": "code",
   "execution_count": 83,
   "metadata": {},
   "outputs": [
    {
     "name": "stdout",
     "output_type": "stream",
     "text": [
      "The common words in both the documents are as follows-\n",
      "one\n",
      "life\n",
      "work\n",
      "new\n"
     ]
    }
   ],
   "source": [
    "#measuring the uniqueness of the two documents\n",
    "itemsd=[]\n",
    "itemst=[]\n",
    "for i in range(0,len(TTDitems)):\n",
    "    itemsd.append(TTDitems[i][0])\n",
    "    itemst.append(DPitems[i][0])\n",
    "#printing the common words from the top 50 list in both the documents  \n",
    "count=0\n",
    "print(\"The common words in both the documents are as follows-\")\n",
    "for item in itemsd:\n",
    "    if item in itemst:\n",
    "        count+=1\n",
    "        print(item)"
   ]
  },
  {
   "cell_type": "code",
   "execution_count": 84,
   "metadata": {},
   "outputs": [
    {
     "name": "stdout",
     "output_type": "stream",
     "text": [
      "the percent of common words unique is 92.0\n"
     ]
    }
   ],
   "source": [
    "#percentage of uniqueness\n",
    "percent=(len(itemsd)-count)/len(itemsd)*100\n",
    "print(\"the percent of common words unique is \"+str(percent))"
   ]
  }
 ],
 "metadata": {
  "kernelspec": {
   "display_name": "Python 3",
   "language": "python",
   "name": "python3"
  },
  "language_info": {
   "codemirror_mode": {
    "name": "ipython",
    "version": 3
   },
   "file_extension": ".py",
   "mimetype": "text/x-python",
   "name": "python",
   "nbconvert_exporter": "python",
   "pygments_lexer": "ipython3",
   "version": "3.6.1"
  }
 },
 "nbformat": 4,
 "nbformat_minor": 2
}
